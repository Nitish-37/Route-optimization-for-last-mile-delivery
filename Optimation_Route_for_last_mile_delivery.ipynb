{
  "nbformat": 4,
  "nbformat_minor": 0,
  "metadata": {
    "colab": {
      "provenance": [],
      "authorship_tag": "ABX9TyNI8Yp4rnRfKPatZPCGiqow",
      "include_colab_link": true
    },
    "kernelspec": {
      "name": "python3",
      "display_name": "Python 3"
    },
    "language_info": {
      "name": "python"
    }
  },
  "cells": [
    {
      "cell_type": "markdown",
      "metadata": {
        "id": "view-in-github",
        "colab_type": "text"
      },
      "source": [
        "<a href=\"https://colab.research.google.com/github/Nitish-37/Route-optimization-for-last-mile-delivery/blob/main/Optimation_Route_for_last_mile_delivery.ipynb\" target=\"_parent\"><img src=\"https://colab.research.google.com/assets/colab-badge.svg\" alt=\"Open In Colab\"/></a>"
      ]
    },
    {
      "cell_type": "code",
      "execution_count": 7,
      "metadata": {
        "id": "C4qPP8sZNGkj"
      },
      "outputs": [],
      "source": [
        "import pandas as pd\n",
        "from ortools.constraint_solver import routing_enums_pb2\n",
        "from ortools.constraint_solver import pywrapcp"
      ]
    },
    {
      "cell_type": "code",
      "source": [
        "def load_distance_matrix(file_path):\n",
        "    \"\"\"Reads distance matrix from Excel file\"\"\"\n",
        "    df = pd.read_excel(file_path, index_col=0)\n",
        "    return df.values.tolist()"
      ],
      "metadata": {
        "id": "ObHclOd9OoNT"
      },
      "execution_count": 8,
      "outputs": []
    },
    {
      "cell_type": "code",
      "source": [
        "distance_matrix = load_distance_matrix('df_distance_matrix.xlsx')"
      ],
      "metadata": {
        "id": "wAKbGtqaOqmd"
      },
      "execution_count": 9,
      "outputs": []
    },
    {
      "cell_type": "code",
      "source": [
        "def create_data_model(distance_matrix):\n",
        "    \"\"\"Structures the problem data\"\"\"\n",
        "    return {\n",
        "        'distance_matrix': distance_matrix,\n",
        "        'num_vehicles': 1,  # Single delivery vehicle\n",
        "        'depot': 0           # Starting/ending point (Location 0)\n",
        "    }"
      ],
      "metadata": {
        "id": "kzpJIhgxOudH"
      },
      "execution_count": 10,
      "outputs": []
    },
    {
      "cell_type": "code",
      "source": [
        "def initialize_routing(data):\n",
        "    \"\"\"Sets up routing index manager and model\"\"\"\n",
        "    manager = pywrapcp.RoutingIndexManager(\n",
        "        len(data['distance_matrix']),\n",
        "        data['num_vehicles'],\n",
        "        data['depot']\n",
        "    )\n",
        "\n",
        "    routing = pywrapcp.RoutingModel(manager)\n",
        "    return manager, routing"
      ],
      "metadata": {
        "id": "yQURQmDOPMxt"
      },
      "execution_count": 11,
      "outputs": []
    },
    {
      "cell_type": "code",
      "source": [
        "def add_distance_constraint(routing, manager, data):\n",
        "    \"\"\"Adds distance callback function\"\"\"\n",
        "    def distance_callback(from_index, to_index):\n",
        "        from_node = manager.IndexToNode(from_index)\n",
        "        to_node = manager.IndexToNode(to_index)\n",
        "        return data['distance_matrix'][from_node][to_node]\n",
        "\n",
        "    transit_callback_index = routing.RegisterTransitCallback(distance_callback)\n",
        "    routing.SetArcCostEvaluatorOfAllVehicles(transit_callback_index)"
      ],
      "metadata": {
        "id": "pCSutSJkPM7L"
      },
      "execution_count": 12,
      "outputs": []
    },
    {
      "cell_type": "code",
      "source": [
        "def set_search_parameters():\n",
        "    \"\"\"Sets optimization parameters\"\"\"\n",
        "    search_parameters = pywrapcp.DefaultRoutingSearchParameters()\n",
        "    search_parameters.first_solution_strategy = (\n",
        "        routing_enums_pb2.FirstSolutionStrategy.PATH_CHEAPEST_ARC\n",
        "    )\n",
        "    search_parameters.local_search_metaheuristic = (\n",
        "        routing_enums_pb2.LocalSearchMetaheuristic.GUIDED_LOCAL_SEARCH\n",
        "    )\n",
        "    search_parameters.time_limit.FromSeconds(5)\n",
        "    return search_parameters"
      ],
      "metadata": {
        "id": "5NG4wnRtW77x"
      },
      "execution_count": 13,
      "outputs": []
    },
    {
      "cell_type": "code",
      "source": [
        "def print_solution(manager, routing, solution):\n",
        "    \"\"\"Prints optimized route details\"\"\"\n",
        "    index = routing.Start(0)\n",
        "    plan_output = 'Optimal Delivery Route:\\n'\n",
        "    route_distance = 0\n",
        "    route = []\n",
        "\n",
        "    while not routing.IsEnd(index):\n",
        "        node = manager.IndexToNode(index)\n",
        "        route.append(node)\n",
        "        plan_output += f'Location {node} -> '\n",
        "        previous_index = index\n",
        "        index = solution.Value(routing.NextVar(index))\n",
        "        route_distance += routing.GetArcCostForVehicle(previous_index, index, 0)\n",
        "\n",
        "    plan_output += f'Location {manager.IndexToNode(index)}\\n'\n",
        "    print(plan_output)\n",
        "    print(f'Total Route Distance: {route_distance} units')\n",
        "    print(f'Route Sequence: {route + [0]}')"
      ],
      "metadata": {
        "id": "S3MPPXnDW8KZ"
      },
      "execution_count": 14,
      "outputs": []
    },
    {
      "cell_type": "code",
      "source": [
        "def main():\n",
        "    # Load data\n",
        "    distance_matrix = load_distance_matrix('df_distance_matrix.xlsx')\n",
        "    data = create_data_model(distance_matrix)\n",
        "\n",
        "    # Initialize routing\n",
        "    manager, routing = initialize_routing(data)\n",
        "\n",
        "    # Add constraints\n",
        "    add_distance_constraint(routing, manager, data)\n",
        "\n",
        "    # Configure solver\n",
        "    search_parameters = set_search_parameters()\n",
        "\n",
        "    # Solve problem\n",
        "    solution = routing.SolveWithParameters(search_parameters)\n",
        "\n",
        "    # Print results\n",
        "    if solution:\n",
        "        print_solution(manager, routing, solution)\n",
        "    else:\n",
        "        print(\"No solution found!\")\n",
        "if __name__ == '__main__': # Changed _name_ to __name__\n",
        "    main()\n"
      ],
      "metadata": {
        "colab": {
          "base_uri": "https://localhost:8080/"
        },
        "id": "m3NfkyskXQUO",
        "outputId": "caa8c266-36f8-4c32-8f50-7e0bcc0cc954"
      },
      "execution_count": 17,
      "outputs": [
        {
          "output_type": "stream",
          "name": "stdout",
          "text": [
            "Optimal Delivery Route:\n",
            "Location 0 -> Location 9 -> Location 5 -> Location 8 -> Location 6 -> Location 2 -> Location 10 -> Location 16 -> Location 14 -> Location 13 -> Location 12 -> Location 11 -> Location 15 -> Location 3 -> Location 4 -> Location 1 -> Location 7 -> Location 0\n",
            "\n",
            "Total Route Distance: 4384 units\n",
            "Route Sequence: [0, 9, 5, 8, 6, 2, 10, 16, 14, 13, 12, 11, 15, 3, 4, 1, 7, 0]\n"
          ]
        }
      ]
    }
  ]
}